{
 "cells": [
  {
   "cell_type": "code",
   "execution_count": null,
   "id": "87f02e73",
   "metadata": {},
   "outputs": [],
   "source": [
    "!git clone https://github.com/drryodino246/csc542-gp-team164.git"
   ]
  },
  {
   "cell_type": "code",
   "execution_count": null,
   "id": "3682da4f",
   "metadata": {},
   "outputs": [],
   "source": [
    "!pip install datasets"
   ]
  },
  {
   "cell_type": "code",
   "execution_count": null,
   "id": "0700f22e",
   "metadata": {},
   "outputs": [],
   "source": [
    "from datasets import load_dataset\n",
    "emotions = load_dataset('csv', data_files='/content/csc542-gp-team164/baseline.csv')"
   ]
  },
  {
   "cell_type": "code",
   "execution_count": null,
   "id": "0944426b",
   "metadata": {},
   "outputs": [],
   "source": [
    "emotions_split = emotions['train'].train_test_split(test_size=0.2, seed=42)\n",
    "train_dataset = emotions_split['train']\n",
    "test_dataset = emotions_split['test']\n",
    "\n",
    "print(f\"Training data size: {len(train_dataset)}\")\n",
    "print(f\"Test data size: {len(test_dataset)}\")"
   ]
  }
 ],
 "metadata": {
  "language_info": {
   "name": "python"
  }
 },
 "nbformat": 4,
 "nbformat_minor": 5
}
